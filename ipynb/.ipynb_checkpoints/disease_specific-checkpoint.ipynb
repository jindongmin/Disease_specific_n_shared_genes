{
 "cells": [
  {
   "cell_type": "code",
   "execution_count": 4,
   "id": "02dac603",
   "metadata": {},
   "outputs": [],
   "source": [
    "import numpy as np\n",
    "import pandas as pd\n",
    "from scipy.sparse import coo_matrix\n",
    "import os\n",
    "import random\n",
    "from statsmodels.stats.proportion import binom_test\n",
    "from statsmodels.stats.multitest import multipletests\n",
    "\n",
    "def parse_genome(df):\n",
    "    genome_id = df['#query'][0].split('_')[0]\n",
    "    keggs = df['KEGG_ko'].replace('-', None).dropna()\n",
    "    keggs = list(map(lambda x: x.split(','), keggs.values))\n",
    "    keggs = sum(keggs, [])\n",
    "    keggs = pd.DataFrame({'KEGG_ko': keggs})\n",
    "    keggs['genome_id'] = genome_id\n",
    "    return keggs\n",
    "\n",
    "def to_sparse_matrix(func_df, genome_id='genome_id', kegg_id='KEGG_ko'):\n",
    "    # create genome-specific index\n",
    "    ogus = list(set(func_df[genome_id]))\n",
    "    ogu_lookup = pd.Series(np.arange(0, len(ogus)), ogus)\n",
    "    # create KEGG-specific index\n",
    "    keggs = list(set(func_df[kegg_id]))\n",
    "    kegg_lookup = pd.Series(np.arange(0, len(keggs)), keggs)\n",
    "    # rename names as numbers\n",
    "    ogu_id = func_df[genome_id].apply(lambda x: ogu_lookup.loc[x]).astype(np.int64)\n",
    "    kegg_id = func_df[kegg_id].apply(lambda x: kegg_lookup.loc[x]).astype(np.int64)\n",
    "    # assign the presence / absence of a gene\n",
    "    func_df['count'] = 1\n",
    "    c = func_df['count'].values\n",
    "    # format into a matrix\n",
    "    data = coo_matrix((c, (ogu_id, kegg_id)))\n",
    "    ko_ogu = pd.DataFrame(data.todense(), index=ogus, columns=keggs)\n",
    "    return ko_ogu\n",
    "\n",
    "def btest(pa1, pa2, seed=0, return_proportions=False):\n",
    "    \"\"\" Performs genome wide binomial test between two groups of taxa\n",
    "    Parameters\n",
    "    ----------\n",
    "    df1 : pd.DataFrame\n",
    "        Rows are taxa, columns are genes\n",
    "    df2 : pd.DataFrame\n",
    "        Rows are taxa, columns are genes\n",
    "    Returns\n",
    "    -------\n",
    "    pd.Series : list of genes associated with df1\n",
    "    pd.Series : list of genes associated with df2\n",
    "    \"\"\"\n",
    "    np.random.seed(seed)\n",
    "    random.seed(seed)\n",
    "    #pa1 = df1 > 0\n",
    "    #pa2 = df2 > 0\n",
    "    idx = list(set(pa1.columns) | set(pa2.columns))\n",
    "    idx.sort()\n",
    "    pa1 = pa1.sum(axis=0).reindex(idx).fillna(0)\n",
    "    pa2 = pa2.sum(axis=0).reindex(idx).fillna(0)\n",
    "    n = pa1 + pa2\n",
    "    obs = list(zip(list(pa1.values), list((pa2.values + 1) / (pa2 + 1).sum()), list(n.values)))\n",
    "    pvals = pd.Series([binom_test(a, n, b, 'two-sided') for (a, b, n) in obs],\n",
    "                      index=n.index)\n",
    "    if return_proportions:\n",
    "        res = pd.DataFrame({'groupA': pa1, 'groupB': pa2, 'pval': pvals})\n",
    "        def relabel_f(x):\n",
    "            if x['groupA'] < x['groupB']:\n",
    "                return 'groupB'\n",
    "            else:\n",
    "                return 'groupA'\n",
    "        res['side'] = res.apply(relabel_f, axis=1)\n",
    "        return res\n",
    "\n",
    "    return pvals\n",
    "\n",
    "def log_pvalue(lr, alpha=0.1, filter=True):\n",
    "    \"\"\" Converts pvalues to -log(pvalue)\n",
    "    Also performs Boniferroni correction.\n",
    "    \"\"\"\n",
    "    lr = lr.reset_index()\n",
    "    # lr.columns = ['KEGG', 'pvalue']\n",
    "    lr['-log(pvalue)'] = -np.log(lr['pvalue'] + 1e-200)\n",
    "    res = multipletests(lr['pvalue'], method='fdr_bh', alpha=alpha)\n",
    "    lr['pvalue_corrected'] = res[1]\n",
    "    if filter:\n",
    "        lr = lr.loc[res[0]]\n",
    "        return lr\n",
    "    return lr\n",
    "\n",
    "from matplotlib_venn import venn2\n",
    "from matplotlib import pyplot as plt\n",
    "import pandas as pd"
   ]
  },
  {
   "cell_type": "code",
   "execution_count": 2,
   "id": "b05e1823",
   "metadata": {},
   "outputs": [],
   "source": [
    "metadata_new = pd.read_table('../../Meta_diseases_analyses/table/eggNOG_species_rep.txt')"
   ]
  },
  {
   "cell_type": "code",
   "execution_count": 3,
   "id": "16a859f5",
   "metadata": {},
   "outputs": [],
   "source": [
    "# genes of top 100 microbes -- each disease dataset\n",
    "#load tables\n",
    "import os\n",
    "dir_str = \"../../Meta_diseases_analyses/table/\"\n",
    "postfix = \"_deseq2_all.txt\"\n",
    "table_names = [dir_str + _f for _f in os.listdir(dir_str) if _f.endswith(postfix)]\n",
    "# table_names\n",
    "results_n = {}\n",
    "results_p = {}\n",
    "\n",
    "for table_n in table_names:\n",
    "    i = pd.read_table(table_n)\n",
    "    i['CI_5'] = i['log2FoldChange'] - i['lfcSE']*1.96\n",
    "    i['CI_95'] = i['log2FoldChange'] + i['lfcSE']*1.96\n",
    "    i_negative = i.sort_values(by=['CI_95'],ascending=True).head(100)\n",
    "    i_positive = i.sort_values(by=['CI_5'],ascending=False).head(100)\n",
    "    disease_as_key = table_n.replace(dir_str, \"\").replace(postfix, \"\")\n",
    "    results_n[disease_as_key] = i_negative[\"Unnamed: 0\"]\n",
    "    results_p[disease_as_key] = i_positive[\"Unnamed: 0\"]"
   ]
  },
  {
   "cell_type": "code",
   "execution_count": 4,
   "id": "baad542c",
   "metadata": {},
   "outputs": [
    {
     "data": {
      "text/plain": [
       "dict_keys(['Qian_PD', 'iMSMS_MS', 'T1D', 'QinT2D', 'Zhu_Schizophrenia', 'Franzosa_CD', 'Qin_Obesity', 'Nielsen_UC', 'Laske_AD', 'ASD_250'])"
      ]
     },
     "execution_count": 4,
     "metadata": {},
     "output_type": "execute_result"
    }
   ],
   "source": [
    "eggNOG_dir = 'http://ftp.ebi.ac.uk/pub/databases/metagenomics/mgnify_genomes/human-gut/v2.0/species_catalogue/'\n",
    "results_n.keys()"
   ]
  },
  {
   "cell_type": "code",
   "execution_count": 5,
   "id": "a70f0098",
   "metadata": {
    "scrolled": true
   },
   "outputs": [
    {
     "name": "stdout",
     "output_type": "stream",
     "text": [
      "Qian_PD\n",
      "iMSMS_MS\n",
      "T1D\n",
      "QinT2D\n",
      "Zhu_Schizophrenia\n",
      "Franzosa_CD\n",
      "Qin_Obesity\n",
      "Nielsen_UC\n",
      "Laske_AD\n",
      "ASD_250\n"
     ]
    }
   ],
   "source": [
    "#set(results['iMSMS_MS'])\n",
    "#\"{} + {} = banana\".format(8, 'apple')\n",
    "results = results_n\n",
    "for key in results.keys():\n",
    "    print (key)"
   ]
  },
  {
   "cell_type": "code",
   "execution_count": 1,
   "id": "7457a93d",
   "metadata": {
    "scrolled": false
   },
   "outputs": [],
   "source": [
    "for key in results.keys():\n",
    "    key_negative = set(results[key])\n",
    "    key_negative_rep = metadata_new[metadata_new['Species'].isin(key_negative)]\n",
    "    Species_rep_ids_key_negative = key_negative_rep['Species_rep'].drop_duplicates()\n",
    "    os.mkdir('../Species_table/'+ key + '_Negative')\n",
    "    for i in Species_rep_ids_key_negative:\n",
    "        os.system(\"wget '{}/{}/{}/genome/{}_eggNOG.tsv' -O {}/{}_eggNOG.tsv\".format(eggNOG_dir, i[:-2], i, i, '../Species_table/'+ key + '_Negative', i))"
   ]
  },
  {
   "cell_type": "code",
   "execution_count": 2,
   "id": "9f19736e",
   "metadata": {},
   "outputs": [],
   "source": [
    "for key in results_p.keys():\n",
    "    key_positive = set(results_p[key])\n",
    "    key_positive_rep = metadata_new[metadata_new['Species'].isin(key_positive)]\n",
    "    Species_rep_ids_key_positive = key_positive_rep['Species_rep'].drop_duplicates()\n",
    "    os.mkdir('../Species_table/'+ key + '_Positive')\n",
    "    for i in Species_rep_ids_key_positive:\n",
    "        os.system(\"wget '{}/{}/{}/genome/{}_eggNOG.tsv' -O {}/{}_eggNOG.tsv\".format(eggNOG_dir, i[:-2], i, i, '../Species_table/'+ key + '_Positive', i))"
   ]
  },
  {
   "cell_type": "code",
   "execution_count": 8,
   "id": "6fcbb1f1",
   "metadata": {},
   "outputs": [],
   "source": [
    "for key in results_p.keys():\n",
    "    key_positive = set(results_p[key])\n",
    "    key_positive_rep = metadata_new[metadata_new['Species'].isin(key_positive)]\n",
    "    Species_rep_ids_key_positive = key_positive_rep['Species_rep'].drop_duplicates()"
   ]
  },
  {
   "cell_type": "code",
   "execution_count": 10,
   "id": "d6b671b9",
   "metadata": {},
   "outputs": [],
   "source": [
    "for key in results_p.keys():\n",
    "    key_positive = set(results_p[key])\n",
    "    key_positive_rep = metadata_new[metadata_new['Species'].isin(key_positive)]\n",
    "    Species_rep_ids_key_positive = key_positive_rep['Species_rep'].drop_duplicates()\n",
    "    df_list_p = []\n",
    "    for i in Species_rep_ids_key_positive:\n",
    "        f_name = '../Species_table/{}_Positive/{}_eggNOG.tsv'.format(key,i)\n",
    "        #f_name = key + '_Positive/{}_eggNOG.tsv'.format(i)\n",
    "        df_parsed = parse_genome(pd.read_table(f_name))\n",
    "        df_list_p.append(df_parsed)\n",
    "    \n",
    "    df_cat_p = pd.concat(df_list_p, axis=0)\n",
    "    genome_kegg_counts_p = to_sparse_matrix(df_cat_p)\n",
    "    genome_kegg_counts_p.to_csv('table/genome_kegg_counts_p_{}.txt'.format(key), sep = '\\t') "
   ]
  },
  {
   "cell_type": "code",
   "execution_count": 11,
   "id": "402a68ef",
   "metadata": {},
   "outputs": [],
   "source": [
    "for key in results_n.keys():\n",
    "    key_negative = set(results_n[key])\n",
    "    key_negative_rep = metadata_new[metadata_new['Species'].isin(key_negative)]\n",
    "    key_negative_rep = key_negative_rep.loc[key_negative_rep['Species_rep'] != 'MGYG000001406.1']\n",
    "    key_negative_rep = key_negative_rep.loc[key_negative_rep['Species_rep'] != 'MGYG000001455.1']\n",
    "    key_negative_rep = key_negative_rep.loc[key_negative_rep['Species_rep'] != 'MGYG000002950.1']\n",
    "    Species_rep_ids_key_negative = key_negative_rep['Species_rep'].drop_duplicates()\n",
    "    df_list_n = []\n",
    "    for i in Species_rep_ids_key_negative:\n",
    "        f_name = '../Species_table/{}_Negative/{}_eggNOG.tsv'.format(key,i)\n",
    "        df_parsed = parse_genome(pd.read_table(f_name))\n",
    "#         try:\n",
    "#             df_parsed = parse_genome(pd.read_table(f_name))\n",
    "#         except Exception as e:\n",
    "#             print(f_name, i, key)\n",
    "#             raise e\n",
    "        df_list_n.append(df_parsed)\n",
    "    \n",
    "    df_cat_n = pd.concat(df_list_n, axis=0)\n",
    "    genome_kegg_counts_n = to_sparse_matrix(df_cat_n)\n",
    "    genome_kegg_counts_n.to_csv('table/genome_kegg_counts_n_{}.txt'.format(key), sep = '\\t') "
   ]
  },
  {
   "cell_type": "code",
   "execution_count": 12,
   "id": "2686d151",
   "metadata": {},
   "outputs": [],
   "source": [
    "#compare negative and negative: from top 100 microbes\n",
    "for key in results_n.keys():\n",
    "    f_name_p = 'table/genome_kegg_counts_p_{}.txt'.format(key)\n",
    "    f_name_n = 'table/genome_kegg_counts_n_{}.txt'.format(key)\n",
    "    genome_kegg_counts_p = pd.read_table(f_name_p, sep = '\\t', index_col=0)\n",
    "    genome_kegg_counts_n = pd.read_table(f_name_n, sep = '\\t', index_col=0)\n",
    "#     try:\n",
    "#         kegg2 = btest(genome_kegg_counts_p, genome_kegg_counts_n, return_proportions=True)\n",
    "#     except Exception as e:\n",
    "#         print(key)\n",
    "#         print(f_name_n)\n",
    "#         print(f_name_p)\n",
    "#         genome_kegg_counts_xyz = pd.read_table(f_name_n, sep = '\\t', index_col=0)\n",
    "#         print(genome_kegg_counts_xyz)\n",
    "#         raise e\n",
    "    kegg2 = btest(genome_kegg_counts_p, genome_kegg_counts_n, return_proportions=True)\n",
    "    kegg2 = kegg2.loc[kegg2['side'] == 'groupB']\n",
    "    kegg2 = kegg2.loc[kegg2['pval'] <= 0.001]\n",
    "    kegg2.to_csv('../table_abundant_genes/kegg_more_abundant_in_cases_{}.txt'.format(key), sep = '\\t')"
   ]
  },
  {
   "cell_type": "code",
   "execution_count": 67,
   "id": "834e700f",
   "metadata": {},
   "outputs": [],
   "source": [
    "key_genes = {}\n",
    "for key in results_n.keys():\n",
    "    f_name = '../table_abundant_genes/kegg_more_abundant_in_cases_{}.txt'.format(key)\n",
    "    gene_table = pd.read_table(f_name, sep = '\\t', index_col=0)\n",
    "    key_genes[key] = set(gene_table.index)"
   ]
  },
  {
   "cell_type": "code",
   "execution_count": 68,
   "id": "d8b10641",
   "metadata": {},
   "outputs": [
    {
     "data": {
      "text/plain": [
       "1212"
      ]
     },
     "execution_count": 68,
     "metadata": {},
     "output_type": "execute_result"
    }
   ],
   "source": [
    "len(key_genes['Laske_AD'])"
   ]
  },
  {
   "cell_type": "code",
   "execution_count": 69,
   "id": "e7389985",
   "metadata": {},
   "outputs": [
    {
     "data": {
      "text/plain": [
       "dict_keys(['Qian_PD', 'iMSMS_MS', 'T1D', 'QinT2D', 'Zhu_Schizophrenia', 'Franzosa_CD', 'Qin_Obesity', 'Nielsen_UC', 'Laske_AD', 'ASD_250'])"
      ]
     },
     "execution_count": 69,
     "metadata": {},
     "output_type": "execute_result"
    }
   ],
   "source": [
    "results_n.keys()"
   ]
  },
  {
   "cell_type": "code",
   "execution_count": 72,
   "id": "7dad40ac",
   "metadata": {},
   "outputs": [],
   "source": [
    "for i in results_n: \n",
    "    other_keys = [_key for _key in results_n if _key != i]\n",
    "    i_genes = key_genes[i] - (set.union(*[key_genes[key] for key in other_keys]))\n",
    "    i_genes = list(i_genes)\n",
    "    pd.DataFrame(i_genes).to_csv('../disease_specific_genes/{}_genes.txt'.format(i), sep = '\\t') \n",
    "    len(i_genes)"
   ]
  },
  {
   "cell_type": "code",
   "execution_count": 73,
   "id": "d4fe1896",
   "metadata": {},
   "outputs": [
    {
     "data": {
      "text/plain": [
       "48"
      ]
     },
     "execution_count": 73,
     "metadata": {},
     "output_type": "execute_result"
    }
   ],
   "source": [
    "len(Laske_AD_genes)"
   ]
  },
  {
   "cell_type": "code",
   "execution_count": 6,
   "id": "47d36ba5",
   "metadata": {},
   "outputs": [],
   "source": [
    "#type(Laske_AD_genes)\n",
    "Laske_ad_cases = pd.read_table('../table_abundant_genes/kegg_more_abundant_in_cases_Laske_AD.txt')\n",
    "Laske_ad_case_specific = Laske_ad_cases.loc[Laske_ad_cases['Unnamed: 0'].isin(Laske_AD_genes)]\n",
    "Laske_ad_case_specific.sort_values(by=['pval'],ascending=True)"
   ]
  },
  {
   "cell_type": "code",
   "execution_count": 74,
   "id": "2372f87b",
   "metadata": {},
   "outputs": [
    {
     "data": {
      "text/plain": [
       "620"
      ]
     },
     "execution_count": 74,
     "metadata": {},
     "output_type": "execute_result"
    }
   ],
   "source": [
    "len(Qian_PD_genes)"
   ]
  },
  {
   "cell_type": "code",
   "execution_count": 75,
   "id": "78eace82",
   "metadata": {},
   "outputs": [
    {
     "data": {
      "text/plain": [
       "65"
      ]
     },
     "execution_count": 75,
     "metadata": {},
     "output_type": "execute_result"
    }
   ],
   "source": [
    "len(iMSMS_MS_genes)"
   ]
  },
  {
   "cell_type": "code",
   "execution_count": 76,
   "id": "1d1b5ab1",
   "metadata": {},
   "outputs": [
    {
     "data": {
      "text/plain": [
       "49"
      ]
     },
     "execution_count": 76,
     "metadata": {},
     "output_type": "execute_result"
    }
   ],
   "source": [
    "len(T1D_genes)"
   ]
  },
  {
   "cell_type": "code",
   "execution_count": 77,
   "id": "f0b125a6",
   "metadata": {},
   "outputs": [
    {
     "data": {
      "text/plain": [
       "18"
      ]
     },
     "execution_count": 77,
     "metadata": {},
     "output_type": "execute_result"
    }
   ],
   "source": [
    "len(QinT2D_genes)"
   ]
  },
  {
   "cell_type": "code",
   "execution_count": 78,
   "id": "39f76c87",
   "metadata": {},
   "outputs": [
    {
     "data": {
      "text/plain": [
       "106"
      ]
     },
     "execution_count": 78,
     "metadata": {},
     "output_type": "execute_result"
    }
   ],
   "source": [
    "len(Zhu_Schizophrenia_genes)"
   ]
  },
  {
   "cell_type": "code",
   "execution_count": 79,
   "id": "e8684ad9",
   "metadata": {},
   "outputs": [
    {
     "data": {
      "text/plain": [
       "57"
      ]
     },
     "execution_count": 79,
     "metadata": {},
     "output_type": "execute_result"
    }
   ],
   "source": [
    "len(Franzosa_CD_genes)"
   ]
  },
  {
   "cell_type": "code",
   "execution_count": 80,
   "id": "9b94fa7f",
   "metadata": {},
   "outputs": [
    {
     "data": {
      "text/plain": [
       "35"
      ]
     },
     "execution_count": 80,
     "metadata": {},
     "output_type": "execute_result"
    }
   ],
   "source": [
    "len(Qin_Obesity_genes)"
   ]
  },
  {
   "cell_type": "code",
   "execution_count": 81,
   "id": "f01d9d4d",
   "metadata": {},
   "outputs": [
    {
     "data": {
      "text/plain": [
       "138"
      ]
     },
     "execution_count": 81,
     "metadata": {},
     "output_type": "execute_result"
    }
   ],
   "source": [
    "len(Nielsen_UC_genes)"
   ]
  },
  {
   "cell_type": "code",
   "execution_count": 82,
   "id": "78d1e06c",
   "metadata": {},
   "outputs": [
    {
     "data": {
      "text/plain": [
       "63"
      ]
     },
     "execution_count": 82,
     "metadata": {},
     "output_type": "execute_result"
    }
   ],
   "source": [
    "len(ASD_250_genes)"
   ]
  }
 ],
 "metadata": {
  "kernelspec": {
   "display_name": "Python 3 (ipykernel)",
   "language": "python",
   "name": "python3"
  },
  "language_info": {
   "codemirror_mode": {
    "name": "ipython",
    "version": 3
   },
   "file_extension": ".py",
   "mimetype": "text/x-python",
   "name": "python",
   "nbconvert_exporter": "python",
   "pygments_lexer": "ipython3",
   "version": "3.9.10"
  }
 },
 "nbformat": 4,
 "nbformat_minor": 5
}
